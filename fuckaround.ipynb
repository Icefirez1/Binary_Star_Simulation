{
 "cells": [
  {
   "cell_type": "code",
   "execution_count": 2,
   "metadata": {},
   "outputs": [
    {
     "name": "stdout",
     "output_type": "stream",
     "text": [
      "1\n",
      "1\n",
      "2\n",
      "3\n",
      "3\n",
      "6\n",
      "4\n",
      "10\n"
     ]
    },
    {
     "data": {
      "text/plain": [
       "10"
      ]
     },
     "execution_count": 2,
     "metadata": {},
     "output_type": "execute_result"
    }
   ],
   "source": [
    "def f (x):\n",
    "    if (x <=0):\n",
    "        y = 0\n",
    "        return y\n",
    "    else:\n",
    "        z = x + f(x-1)\n",
    "        print(x)\n",
    "        #print(y)\n",
    "        print(z)\n",
    "        return z\n",
    "\n",
    "f(4)"
   ]
  },
  {
   "cell_type": "code",
   "execution_count": 5,
   "metadata": {},
   "outputs": [
    {
     "name": "stdout",
     "output_type": "stream",
     "text": [
      "2\n",
      "3\n"
     ]
    }
   ],
   "source": [
    "outer = 0\n",
    "count = 0\n",
    "while (outer < 2):\n",
    "    inner = 0\n",
    "    while (inner < 3):\n",
    "        inner+=1\n",
    "    count+=1\n",
    "    outer += 1\n",
    "\n",
    "print(count)\n",
    "print(inner)"
   ]
  },
  {
   "cell_type": "code",
   "execution_count": 12,
   "metadata": {},
   "outputs": [
    {
     "name": "stdout",
     "output_type": "stream",
     "text": [
      "1\n"
     ]
    }
   ],
   "source": [
    "def evenOodd(num):\n",
    "    if(num%2 == 0):\n",
    "        return False\n",
    "    else: \n",
    "        return True\n",
    "\n",
    "def thirdodd(list):\n",
    "    totalcount = 0\n",
    "    if(len(list) < 3):\n",
    "        return -1\n",
    "    for i in list:\n",
    "        if evenOodd(i):\n",
    "            totalcount +=1\n",
    "    if(totalcount < 3):\n",
    "        return -1\n",
    "    lastcount = 0\n",
    "    for i in list:\n",
    "        if(lastcount == totalcount-3):\n",
    "            return i\n",
    "        if evenOodd(i):\n",
    "            lastcount +=1\n",
    "    return -1\n",
    "\n",
    "test = [1,2,3,4,5]\n",
    "print(thirdodd(test))"
   ]
  },
  {
   "cell_type": "code",
   "execution_count": 14,
   "metadata": {},
   "outputs": [
    {
     "name": "stdout",
     "output_type": "stream",
     "text": [
      "1\n"
     ]
    }
   ],
   "source": [
    "def thirdodd_recursive(num_list,index_list, i):\n",
    "    if(len(num_list)<3):\n",
    "        return -1\n",
    "    if(i < len(num_list) and num_list[i] %2 == 1):\n",
    "        index_list.append(i)\n",
    "        thirdodd_recursive(num_list, index_list, i+1)\n",
    "    elif(i < len(num_list)):\n",
    "        thirdodd_recursive(num_list, index_list, i+1)\n",
    "    if(len(index_list) < 3):\n",
    "        return -1\n",
    "    return num_list[index_list[-3]]\n",
    "    \n",
    "test = [1,2,3,4,5]\n",
    "print(thirdodd_recursive(test, [],0))\n",
    "    "
   ]
  },
  {
   "cell_type": "code",
   "execution_count": null,
   "metadata": {},
   "outputs": [],
   "source": []
  }
 ],
 "metadata": {
  "kernelspec": {
   "display_name": "Python 3",
   "language": "python",
   "name": "python3"
  },
  "language_info": {
   "codemirror_mode": {
    "name": "ipython",
    "version": 3
   },
   "file_extension": ".py",
   "mimetype": "text/x-python",
   "name": "python",
   "nbconvert_exporter": "python",
   "pygments_lexer": "ipython3",
   "version": "3.9.13"
  },
  "orig_nbformat": 4
 },
 "nbformat": 4,
 "nbformat_minor": 2
}
